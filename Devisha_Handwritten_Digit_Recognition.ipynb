{
  "nbformat": 4,
  "nbformat_minor": 0,
  "metadata": {
    "colab": {
      "name": "Devisha-Handwritten Digit Recognition.ipynb",
      "provenance": [],
      "collapsed_sections": [],
      "authorship_tag": "ABX9TyMJM0jEGh39yJireT4AbJu8",
      "include_colab_link": true
    },
    "kernelspec": {
      "name": "python3",
      "display_name": "Python 3"
    }
  },
  "cells": [
    {
      "cell_type": "markdown",
      "metadata": {
        "id": "view-in-github",
        "colab_type": "text"
      },
      "source": [
        "<a href=\"https://colab.research.google.com/github/SmartPracticeschool/SPS-6019-Credit-Card-Fraud-Prediction-using-IBM-Auto-AI/blob/main/Devisha_Handwritten_Digit_Recognition.ipynb\" target=\"_parent\"><img src=\"https://colab.research.google.com/assets/colab-badge.svg\" alt=\"Open In Colab\"/></a>"
      ]
    },
    {
      "cell_type": "code",
      "metadata": {
        "id": "81TNsN5kd-Ra"
      },
      "source": [
        "#This a Program worked by Devisha Tiwari To recognize Handwritten Digits using Tensorflow and Keras."
      ],
      "execution_count": 14,
      "outputs": []
    },
    {
      "cell_type": "code",
      "metadata": {
        "id": "3NBU94VFb1f8"
      },
      "source": [
        "import numpy as np                   # advanced math library\n",
        "import matplotlib.pyplot as plt      # MATLAB like plotting routines\n",
        "import random                        # for generating random numbers\n",
        "\n",
        "from keras.datasets import mnist     # MNIST dataset is included in Keras\n",
        "from keras.models import Sequential  # Model type to be used\n",
        "\n",
        "from keras.layers.core import Dense, Dropout, Activation # Types of layers to be used in our model\n",
        "from keras.utils import np_utils                         # NumPy related tools"
      ],
      "execution_count": 13,
      "outputs": []
    },
    {
      "cell_type": "code",
      "metadata": {
        "id": "nqIzhTlvd8rZ"
      },
      "source": [
        ""
      ],
      "execution_count": null,
      "outputs": []
    },
    {
      "cell_type": "code",
      "metadata": {
        "id": "oV9x0-GWb9qp",
        "outputId": "4b3c55a6-1ac3-4e7b-9ad3-bdcde08e05da",
        "colab": {
          "base_uri": "https://localhost:8080/"
        }
      },
      "source": [
        "# The MNIST data is split between 60,000 28 x 28 pixel training images and 10,000 28 x 28 pixel images\n",
        "(X_train, y_train), (X_test, y_test) = mnist.load_data()\n",
        "\n",
        "print(\"X_train shape\", X_train.shape)\n",
        "print(\"y_train shape\", y_train.shape)\n",
        "print(\"X_test shape\", X_test.shape)\n",
        "print(\"y_test shape\", y_test.shape)"
      ],
      "execution_count": 6,
      "outputs": [
        {
          "output_type": "stream",
          "text": [
            "Downloading data from https://storage.googleapis.com/tensorflow/tf-keras-datasets/mnist.npz\n",
            "11493376/11490434 [==============================] - 0s 0us/step\n",
            "X_train shape (60000, 28, 28)\n",
            "y_train shape (60000,)\n",
            "X_test shape (10000, 28, 28)\n",
            "y_test shape (10000,)\n"
          ],
          "name": "stdout"
        }
      ]
    },
    {
      "cell_type": "code",
      "metadata": {
        "id": "d4lQ-yBPcH4I",
        "outputId": "a2c1fe27-5f41-4365-99a7-824d3f075f06",
        "colab": {
          "base_uri": "https://localhost:8080/",
          "height": 657
        }
      },
      "source": [
        "plt.rcParams['figure.figsize'] = (9,9) # Make the figures a bit bigger\n",
        "\n",
        "for i in range(9):\n",
        "    plt.subplot(3,3,i+1)\n",
        "    num = random.randint(0, len(X_train))\n",
        "    plt.imshow(X_train[num], cmap='gray', interpolation='none')\n",
        "    plt.title(\"Class {}\".format(y_train[num]))\n",
        "    \n",
        "plt.tight_layout()"
      ],
      "execution_count": 7,
      "outputs": [
        {
          "output_type": "display_data",
          "data": {
            "image/png": "[encoded data removed]",
            "text/plain": [
              "<Figure size 648x648 with 9 Axes>"
            ]
          },
          "metadata": {
            "tags": [],
            "needs_background": "light"
          }
        }
      ]
    },
    {
      "cell_type": "code",
      "metadata": {
        "id": "olP4Y7BucOw5",
        "outputId": "687a4ac8-5530-4146-8070-7bcda304bda6",
        "colab": {
          "base_uri": "https://localhost:8080/"
        }
      },
      "source": [
        "# just a little function for pretty printing a matrix\n",
        "def matprint(mat, fmt=\"g\"):\n",
        "    col_maxes = [max([len((\"{:\"+fmt+\"}\").format(x)) for x in col]) for col in mat.T]\n",
        "    for x in mat:\n",
        "        for i, y in enumerate(x):\n",
        "            print((\"{:\"+str(col_maxes[i])+fmt+\"}\").format(y), end=\"  \")\n",
        "        print(\"\")\n",
        "\n",
        "# now print!        \n",
        "matprint(X_train[num])"
      ],
      "execution_count": 8,
      "outputs": [
        {
          "output_type": "stream",
          "text": [
            "0  0  0  0  0  0  0  0    0    0    0    0    0    0    0    0    0    0    0    0    0   0  0  0  0  0  0  0  \n",
            "0  0  0  0  0  0  0  0    0    0    0    0    0    0    0    0    0    0    0    0    0   0  0  0  0  0  0  0  \n",
            "0  0  0  0  0  0  0  0    0    0    0    0    0    0    0    0    0    0    0    0    0   0  0  0  0  0  0  0  \n",
            "0  0  0  0  0  0  0  0    0    0    0    0    0    0    0    0    0    0    0    0    0   0  0  0  0  0  0  0  \n",
            "0  0  0  0  0  0  0  0    0    0    0    0    0    0    0    0    0    0    0    0    0   0  0  0  0  0  0  0  \n",
            "0  0  0  0  0  0  0  0    0   16  104  178  253  255  253  253  103    0    0  147  253  63  0  0  0  0  0  0  \n",
            "0  0  0  0  0  0  0  0    0  166  252  252  202  184   84  190  252    0   38  234  252  38  0  0  0  0  0  0  \n",
            "0  0  0  0  0  0  0  0    0  216  252  136    6    0    0  123  252    0   95  252  214   0  0  0  0  0  0  0  \n",
            "0  0  0  0  0  0  0  0    0  141  252  243   25    0   51  246  202   76  243  252   40   0  0  0  0  0  0  0  \n",
            "0  0  0  0  0  0  0  0    0    0  108  253  203   13  170  194   25  204  247  100    0   0  0  0  0  0  0  0  \n",
            "0  0  0  0  0  0  0  0    0    0   19  190  252  194   75   19  188  253  171    0    0   0  0  0  0  0  0  0  \n",
            "0  0  0  0  0  0  0  0    0    0    0   19  231  253  122  104  246  194   19    0    0   0  0  0  0  0  0  0  \n",
            "0  0  0  0  0  0  0  0    0    0    0    0   75  253  221  222  252  113    0    0    0   0  0  0  0  0  0  0  \n",
            "0  0  0  0  0  0  0  0    0    0    0    0    0  192  253  253  241    0    0    0    0   0  0  0  0  0  0  0  \n",
            "0  0  0  0  0  0  0  0    0    0    0    0    0  141  252  252  215    0    0    0    0   0  0  0  0  0  0  0  \n",
            "0  0  0  0  0  0  0  0    0    0    0    0   38  229  252  252  252    0    0    0    0   0  0  0  0  0  0  0  \n",
            "0  0  0  0  0  0  0  0    0    0    0    0  213  241   90  228  252  101    0    0    0   0  0  0  0  0  0  0  \n",
            "0  0  0  0  0  0  0  0    0    0    7  154  241   51    0   76  250  176    0    0    0   0  0  0  0  0  0  0  \n",
            "0  0  0  0  0  0  0  0    0    0   82  252   65    0    0   57  243  225    0    0    0   0  0  0  0  0  0  0  \n",
            "0  0  0  0  0  0  0  0    0   60  234  224   19    0    0   85  252  187    0    0    0   0  0  0  0  0  0  0  \n",
            "0  0  0  0  0  0  0  0    0  191  252  118    0    0   26  210  252  113    0    0    0   0  0  0  0  0  0  0  \n",
            "0  0  0  0  0  0  0  0   63  254  222   25    0   16  128  253  241    0    0    0    0   0  0  0  0  0  0  0  \n",
            "0  0  0  0  0  0  0  0  188  253  196   19  107  216  252  233   59    0    0    0    0   0  0  0  0  0  0  0  \n",
            "0  0  0  0  0  0  0  0  187  253  240  215  252  206  142   37    0    0    0    0    0   0  0  0  0  0  0  0  \n",
            "0  0  0  0  0  0  0  0   13  203  252  164   90   13    0    0    0    0    0    0    0   0  0  0  0  0  0  0  \n",
            "0  0  0  0  0  0  0  0    0    0    0    0    0    0    0    0    0    0    0    0    0   0  0  0  0  0  0  0  \n",
            "0  0  0  0  0  0  0  0    0    0    0    0    0    0    0    0    0    0    0    0    0   0  0  0  0  0  0  0  \n",
            "0  0  0  0  0  0  0  0    0    0    0    0    0    0    0    0    0    0    0    0    0   0  0  0  0  0  0  0  \n"
          ],
          "name": "stdout"
        }
      ]
    },
    {
      "cell_type": "code",
      "metadata": {
        "id": "BTdUXYkLcbNy",
        "outputId": "e141ce54-e174-440d-f88f-a5888188b1a7",
        "colab": {
          "base_uri": "https://localhost:8080/"
        }
      },
      "source": [
        "X_train = X_train.reshape(60000, 784) # reshape 60,000 28 x 28 matrices into 60,000 784-length vectors.\n",
        "X_test = X_test.reshape(10000, 784)   # reshape 10,000 28 x 28 matrices into 10,000 784-length vectors.\n",
        "\n",
        "X_train = X_train.astype('float32')   # change integers to 32-bit floating point numbers\n",
        "X_test = X_test.astype('float32')\n",
        "\n",
        "X_train /= 255                        # normalize each value for each pixel for the entire vector for each input\n",
        "X_test /= 255\n",
        "\n",
        "print(\"Training matrix shape\", X_train.shape)\n",
        "print(\"Testing matrix shape\", X_test.shape)"
      ],
      "execution_count": 9,
      "outputs": [
        {
          "output_type": "stream",
          "text": [
            "Training matrix shape (60000, 784)\n",
            "Testing matrix shape (10000, 784)\n"
          ],
          "name": "stdout"
        }
      ]
    },
    {
      "cell_type": "code",
      "metadata": {
        "id": "-vC796QcciNV"
      },
      "source": [
        "nb_classes = 10 # number of unique digits\n",
        "\n",
        "Y_train = np_utils.to_categorical(y_train, nb_classes)\n",
        "Y_test = np_utils.to_categorical(y_test, nb_classes)"
      ],
      "execution_count": 10,
      "outputs": []
    },
    {
      "cell_type": "code",
      "metadata": {
        "id": "PexBqkezcllW"
      },
      "source": [
        "model = Sequential()"
      ],
      "execution_count": 11,
      "outputs": []
    },
    {
      "cell_type": "code",
      "metadata": {
        "id": "LhOByMGEcyql"
      },
      "source": [
        ""
      ],
      "execution_count": null,
      "outputs": []
    },
    {
      "cell_type": "code",
      "metadata": {
        "id": "ZTQpgXZ5d5Si"
      },
      "source": [
        ""
      ],
      "execution_count": null,
      "outputs": []
    }
  ]
}